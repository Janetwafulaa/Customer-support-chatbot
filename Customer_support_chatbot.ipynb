{
  "nbformat": 4,
  "nbformat_minor": 0,
  "metadata": {
    "colab": {
      "provenance": []
    },
    "kernelspec": {
      "name": "python3",
      "display_name": "Python 3"
    },
    "language_info": {
      "name": "python"
    }
  },
  "cells": [
    {
      "cell_type": "code",
      "source": [
        "!pip install langgraph langchain_groq"
      ],
      "metadata": {
        "colab": {
          "base_uri": "https://localhost:8080/"
        },
        "id": "4tqmbAsY2umA",
        "outputId": "02b82873-0f0d-44be-916a-f7dcc503b2b5"
      },
      "execution_count": 1,
      "outputs": [
        {
          "output_type": "stream",
          "name": "stdout",
          "text": [
            "Collecting langgraph\n",
            "  Downloading langgraph-0.6.8-py3-none-any.whl.metadata (6.8 kB)\n",
            "Collecting langchain_groq\n",
            "  Downloading langchain_groq-0.3.8-py3-none-any.whl.metadata (2.6 kB)\n",
            "Requirement already satisfied: langchain-core>=0.1 in /usr/local/lib/python3.12/dist-packages (from langgraph) (0.3.76)\n",
            "Collecting langgraph-checkpoint<3.0.0,>=2.1.0 (from langgraph)\n",
            "  Downloading langgraph_checkpoint-2.1.1-py3-none-any.whl.metadata (4.2 kB)\n",
            "Collecting langgraph-prebuilt<0.7.0,>=0.6.0 (from langgraph)\n",
            "  Downloading langgraph_prebuilt-0.6.4-py3-none-any.whl.metadata (4.5 kB)\n",
            "Collecting langgraph-sdk<0.3.0,>=0.2.2 (from langgraph)\n",
            "  Downloading langgraph_sdk-0.2.9-py3-none-any.whl.metadata (1.5 kB)\n",
            "Requirement already satisfied: pydantic>=2.7.4 in /usr/local/lib/python3.12/dist-packages (from langgraph) (2.11.9)\n",
            "Requirement already satisfied: xxhash>=3.5.0 in /usr/local/lib/python3.12/dist-packages (from langgraph) (3.5.0)\n",
            "Collecting groq<1,>=0.30.0 (from langchain_groq)\n",
            "  Downloading groq-0.32.0-py3-none-any.whl.metadata (16 kB)\n",
            "Requirement already satisfied: anyio<5,>=3.5.0 in /usr/local/lib/python3.12/dist-packages (from groq<1,>=0.30.0->langchain_groq) (4.10.0)\n",
            "Requirement already satisfied: distro<2,>=1.7.0 in /usr/local/lib/python3.12/dist-packages (from groq<1,>=0.30.0->langchain_groq) (1.9.0)\n",
            "Requirement already satisfied: httpx<1,>=0.23.0 in /usr/local/lib/python3.12/dist-packages (from groq<1,>=0.30.0->langchain_groq) (0.28.1)\n",
            "Requirement already satisfied: sniffio in /usr/local/lib/python3.12/dist-packages (from groq<1,>=0.30.0->langchain_groq) (1.3.1)\n",
            "Requirement already satisfied: typing-extensions<5,>=4.10 in /usr/local/lib/python3.12/dist-packages (from groq<1,>=0.30.0->langchain_groq) (4.15.0)\n",
            "Requirement already satisfied: langsmith>=0.3.45 in /usr/local/lib/python3.12/dist-packages (from langchain-core>=0.1->langgraph) (0.4.28)\n",
            "Requirement already satisfied: tenacity!=8.4.0,<10.0.0,>=8.1.0 in /usr/local/lib/python3.12/dist-packages (from langchain-core>=0.1->langgraph) (8.5.0)\n",
            "Requirement already satisfied: jsonpatch<2.0,>=1.33 in /usr/local/lib/python3.12/dist-packages (from langchain-core>=0.1->langgraph) (1.33)\n",
            "Requirement already satisfied: PyYAML>=5.3 in /usr/local/lib/python3.12/dist-packages (from langchain-core>=0.1->langgraph) (6.0.2)\n",
            "Requirement already satisfied: packaging>=23.2 in /usr/local/lib/python3.12/dist-packages (from langchain-core>=0.1->langgraph) (25.0)\n",
            "Collecting ormsgpack>=1.10.0 (from langgraph-checkpoint<3.0.0,>=2.1.0->langgraph)\n",
            "  Downloading ormsgpack-1.10.0-cp312-cp312-manylinux_2_17_x86_64.manylinux2014_x86_64.whl.metadata (43 kB)\n",
            "\u001b[2K     \u001b[90m━━━━━━━━━━━━━━━━━━━━━━━━━━━━━━━━━━━━━━━━\u001b[0m \u001b[32m43.7/43.7 kB\u001b[0m \u001b[31m1.2 MB/s\u001b[0m eta \u001b[36m0:00:00\u001b[0m\n",
            "\u001b[?25hRequirement already satisfied: orjson>=3.10.1 in /usr/local/lib/python3.12/dist-packages (from langgraph-sdk<0.3.0,>=0.2.2->langgraph) (3.11.3)\n",
            "Requirement already satisfied: annotated-types>=0.6.0 in /usr/local/lib/python3.12/dist-packages (from pydantic>=2.7.4->langgraph) (0.7.0)\n",
            "Requirement already satisfied: pydantic-core==2.33.2 in /usr/local/lib/python3.12/dist-packages (from pydantic>=2.7.4->langgraph) (2.33.2)\n",
            "Requirement already satisfied: typing-inspection>=0.4.0 in /usr/local/lib/python3.12/dist-packages (from pydantic>=2.7.4->langgraph) (0.4.1)\n",
            "Requirement already satisfied: idna>=2.8 in /usr/local/lib/python3.12/dist-packages (from anyio<5,>=3.5.0->groq<1,>=0.30.0->langchain_groq) (3.10)\n",
            "Requirement already satisfied: certifi in /usr/local/lib/python3.12/dist-packages (from httpx<1,>=0.23.0->groq<1,>=0.30.0->langchain_groq) (2025.8.3)\n",
            "Requirement already satisfied: httpcore==1.* in /usr/local/lib/python3.12/dist-packages (from httpx<1,>=0.23.0->groq<1,>=0.30.0->langchain_groq) (1.0.9)\n",
            "Requirement already satisfied: h11>=0.16 in /usr/local/lib/python3.12/dist-packages (from httpcore==1.*->httpx<1,>=0.23.0->groq<1,>=0.30.0->langchain_groq) (0.16.0)\n",
            "Requirement already satisfied: jsonpointer>=1.9 in /usr/local/lib/python3.12/dist-packages (from jsonpatch<2.0,>=1.33->langchain-core>=0.1->langgraph) (3.0.0)\n",
            "Requirement already satisfied: requests-toolbelt>=1.0.0 in /usr/local/lib/python3.12/dist-packages (from langsmith>=0.3.45->langchain-core>=0.1->langgraph) (1.0.0)\n",
            "Requirement already satisfied: requests>=2.0.0 in /usr/local/lib/python3.12/dist-packages (from langsmith>=0.3.45->langchain-core>=0.1->langgraph) (2.32.4)\n",
            "Requirement already satisfied: zstandard>=0.23.0 in /usr/local/lib/python3.12/dist-packages (from langsmith>=0.3.45->langchain-core>=0.1->langgraph) (0.25.0)\n",
            "Requirement already satisfied: charset_normalizer<4,>=2 in /usr/local/lib/python3.12/dist-packages (from requests>=2.0.0->langsmith>=0.3.45->langchain-core>=0.1->langgraph) (3.4.3)\n",
            "Requirement already satisfied: urllib3<3,>=1.21.1 in /usr/local/lib/python3.12/dist-packages (from requests>=2.0.0->langsmith>=0.3.45->langchain-core>=0.1->langgraph) (2.5.0)\n",
            "Downloading langgraph-0.6.8-py3-none-any.whl (154 kB)\n",
            "\u001b[2K   \u001b[90m━━━━━━━━━━━━━━━━━━━━━━━━━━━━━━━━━━━━━━━━\u001b[0m \u001b[32m154.8/154.8 kB\u001b[0m \u001b[31m6.1 MB/s\u001b[0m eta \u001b[36m0:00:00\u001b[0m\n",
            "\u001b[?25hDownloading langchain_groq-0.3.8-py3-none-any.whl (16 kB)\n",
            "Downloading groq-0.32.0-py3-none-any.whl (135 kB)\n",
            "\u001b[2K   \u001b[90m━━━━━━━━━━━━━━━━━━━━━━━━━━━━━━━━━━━━━━━━\u001b[0m \u001b[32m135.4/135.4 kB\u001b[0m \u001b[31m5.5 MB/s\u001b[0m eta \u001b[36m0:00:00\u001b[0m\n",
            "\u001b[?25hDownloading langgraph_checkpoint-2.1.1-py3-none-any.whl (43 kB)\n",
            "\u001b[2K   \u001b[90m━━━━━━━━━━━━━━━━━━━━━━━━━━━━━━━━━━━━━━━━\u001b[0m \u001b[32m43.9/43.9 kB\u001b[0m \u001b[31m1.8 MB/s\u001b[0m eta \u001b[36m0:00:00\u001b[0m\n",
            "\u001b[?25hDownloading langgraph_prebuilt-0.6.4-py3-none-any.whl (28 kB)\n",
            "Downloading langgraph_sdk-0.2.9-py3-none-any.whl (56 kB)\n",
            "\u001b[2K   \u001b[90m━━━━━━━━━━━━━━━━━━━━━━━━━━━━━━━━━━━━━━━━\u001b[0m \u001b[32m56.8/56.8 kB\u001b[0m \u001b[31m2.3 MB/s\u001b[0m eta \u001b[36m0:00:00\u001b[0m\n",
            "\u001b[?25hDownloading ormsgpack-1.10.0-cp312-cp312-manylinux_2_17_x86_64.manylinux2014_x86_64.whl (216 kB)\n",
            "\u001b[2K   \u001b[90m━━━━━━━━━━━━━━━━━━━━━━━━━━━━━━━━━━━━━━━━\u001b[0m \u001b[32m216.7/216.7 kB\u001b[0m \u001b[31m11.4 MB/s\u001b[0m eta \u001b[36m0:00:00\u001b[0m\n",
            "\u001b[?25hInstalling collected packages: ormsgpack, langgraph-sdk, groq, langgraph-checkpoint, langchain_groq, langgraph-prebuilt, langgraph\n",
            "Successfully installed groq-0.32.0 langchain_groq-0.3.8 langgraph-0.6.8 langgraph-checkpoint-2.1.1 langgraph-prebuilt-0.6.4 langgraph-sdk-0.2.9 ormsgpack-1.10.0\n"
          ]
        }
      ]
    },
    {
      "cell_type": "code",
      "execution_count": 2,
      "metadata": {
        "id": "KVk6_Fw_1fnn"
      },
      "outputs": [],
      "source": [
        "#importing libraries\n",
        "\n",
        "from typing import TypedDict\n",
        "from langgraph.graph import StateGraph, END\n",
        "from langchain_core.prompts import ChatPromptTemplate\n",
        "from langchain_groq import ChatGroq\n"
      ]
    },
    {
      "cell_type": "code",
      "source": [
        "#defining state class\n",
        "class State(TypedDict):\n",
        "    query: str\n",
        "    category: str\n",
        "    sentiment: str\n",
        "    response: str\n",
        "\n"
      ],
      "metadata": {
        "id": "2EBVR7W23lE3"
      },
      "execution_count": 3,
      "outputs": []
    },
    {
      "cell_type": "code",
      "source": [
        "#Initialize LLM\n",
        "\n",
        "llm = ChatGroq(\n",
        "    groq_api_key=\"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\",\n",
        "    model_name=\"llama-3.3-70b-versatile\",\n",
        "    temperature=0.7\n",
        ")"
      ],
      "metadata": {
        "id": "ofxrA115figV"
      },
      "execution_count": 4,
      "outputs": []
    },
    {
      "cell_type": "code",
      "source": [
        "#testing the model\n",
        "result = llm.invoke(\"who is William Samoei Ruto?\")\n",
        "result.content"
      ],
      "metadata": {
        "colab": {
          "base_uri": "https://localhost:8080/",
          "height": 139
        },
        "id": "iklFKStYgU2n",
        "outputId": "0ed2c1a7-8304-48be-ca32-fab3c6e8d247"
      },
      "execution_count": 5,
      "outputs": [
        {
          "output_type": "execute_result",
          "data": {
            "text/plain": [
              "\"William Samoei Ruto is a Kenyan politician who is the current President of Kenya. He was born on December 21, 1966, in Kamagut, Uasin Gishu County, Kenya. Ruto served as the Deputy President of Kenya from 2013 to 2022 under President Uhuru Kenyatta.\\n\\nRuto's political career began in the 1990s, and he has held various positions, including Member of Parliament for Eldoret North Constituency and Minister for Agriculture. He was a key figure in the formation of the Jubilee Alliance, a coalition of political parties that won the 2013 general elections.\\n\\nIn the 2022 Kenyan general election, Ruto ran for president under the Kenya Kwanza coalition and won the election, defeating Raila Odinga, a veteran politician and former prime minister. Ruto was sworn in as the fifth President of Kenya on September 13, 2022.\\n\\nAs president, Ruto has pledged to focus on economic development, job creation, and improving the lives of ordinary Kenyans. He has also promised to tackle corruption and improve governance in the country.\\n\\nRuto's presidency has been marked by significant challenges, including a struggling economy, high inflation, and drought. However, he has also made efforts to reach out to opposition leaders and promote national unity.\\n\\nIt's worth noting that Ruto's rise to power has been marked by controversy, including his indictment by the International Criminal Court (ICC) in 2011 for alleged crimes against humanity during the 2007-2008 post-election violence in Kenya. However, the charges were later dropped due to lack of evidence.\""
            ],
            "application/vnd.google.colaboratory.intrinsic+json": {
              "type": "string"
            }
          },
          "metadata": {},
          "execution_count": 5
        }
      ]
    },
    {
      "cell_type": "code",
      "source": [
        "#Helper to run prompts\n",
        "def run_prompt(template: str, query: str) -> str:\n",
        "    prompt = ChatPromptTemplate.from_template(template)\n",
        "    chain = prompt | llm\n",
        "    return chain.invoke({\"query\": query}).content\n",
        "\n"
      ],
      "metadata": {
        "id": "o9a7MBwRgvmd"
      },
      "execution_count": 6,
      "outputs": []
    },
    {
      "cell_type": "code",
      "source": [
        "#Node functions\n",
        "def categorize(state: State) -> State:\n",
        "    template = (\n",
        "        \"Categorize the following customer query into one of these categories: \"\n",
        "        \"Technical, Billing, General. Query: {query}\"\n",
        "    )\n",
        "    return {\"category\": run_prompt(template, state[\"query\"])}\n",
        "\n",
        "def analyze_sentiment(state: State) -> State:\n",
        "    template = (\n",
        "        \"Analyze the sentiment of the following customer query. \"\n",
        "        \"Respond with either 'Positive', 'Neutral', or 'Negative'. Query: {query}\"\n",
        "    )\n",
        "    return {\"sentiment\": run_prompt(template, state[\"query\"])}\n",
        "\n",
        "def handle_technical(state: State) -> State:\n",
        "    return {\"response\": run_prompt(\"Provide a technical support response to the following query: {query}\", state[\"query\"])}\n",
        "\n",
        "def handle_billing(state: State) -> State:\n",
        "    return {\"response\": run_prompt(\"Provide a billing support response to the following query: {query}\", state[\"query\"])}\n",
        "\n",
        "def handle_general(state: State) -> State:\n",
        "    return {\"response\": run_prompt(\"Provide a general support response to the following query: {query}\", state[\"query\"])}\n",
        "\n",
        "def escalate(state: State) -> State:\n",
        "    return {\"response\": \"This query has been escalated to a human agent due to its negative sentiment.\"}\n"
      ],
      "metadata": {
        "id": "S31O0SSBhU2v"
      },
      "execution_count": 7,
      "outputs": []
    },
    {
      "cell_type": "code",
      "source": [
        "#Router\n",
        "\n",
        "def route_query(state: State) -> str:\n",
        "    if state['sentiment'] == 'Negative':\n",
        "        return \"escalate\"\n",
        "    elif state['category'] == 'Technical':\n",
        "        return \"handle_technical\"\n",
        "    elif state['category'] == 'Billing':\n",
        "        return \"handle_billing\"\n",
        "    else:\n",
        "        return \"handle_general\""
      ],
      "metadata": {
        "id": "PbjQRAcihxbf"
      },
      "execution_count": 8,
      "outputs": []
    },
    {
      "cell_type": "code",
      "source": [
        "# Build and compile workflow\n",
        "workflow = StateGraph(State)\n",
        "workflow.add_node(\"categorize\", categorize)\n",
        "workflow.add_node(\"analyze_sentiment\", analyze_sentiment)\n",
        "workflow.add_node(\"handle_technical\", handle_technical)\n",
        "workflow.add_node(\"handle_billing\", handle_billing)\n",
        "workflow.add_node(\"handle_general\", handle_general)\n",
        "workflow.add_node(\"escalate\", escalate)\n",
        "\n",
        "workflow.add_edge(\"categorize\", \"analyze_sentiment\")\n",
        "workflow.add_conditional_edges(\"analyze_sentiment\", route_query, {\n",
        "    \"handle_technical\": \"handle_technical\",\n",
        "    \"handle_billing\": \"handle_billing\",\n",
        "    \"handle_general\": \"handle_general\",\n",
        "    \"escalate\": \"escalate\",\n",
        "})\n",
        "workflow.add_edge(\"handle_technical\", END)\n",
        "workflow.add_edge(\"handle_billing\", END)\n",
        "workflow.add_edge(\"handle_general\", END)\n",
        "workflow.add_edge(\"escalate\", END)\n",
        "\n",
        "workflow.set_entry_point(\"categorize\")\n",
        "\n",
        "# Compile the workflow\n",
        "app = workflow.compile()\n"
      ],
      "metadata": {
        "id": "HPJCLqtAOqqZ"
      },
      "execution_count": 11,
      "outputs": []
    },
    {
      "cell_type": "code",
      "source": [
        "# Customer Support Runner\n",
        "def run_customer_support(query: str) -> dict:\n",
        "    result = app.invoke({\"query\": query})\n",
        "    return {\n",
        "        \"category\": result['category'],\n",
        "        \"sentiment\": result['sentiment'],\n",
        "        \"response\": result['response'],\n",
        "    }\n"
      ],
      "metadata": {
        "id": "AtBHQQVhh5kT"
      },
      "execution_count": 12,
      "outputs": []
    },
    {
      "cell_type": "code",
      "source": [
        "#testing the output\n",
        "query = \"I want to cancel my subscription before the next billing cycle, Can you help me?\"\n",
        "result = run_customer_support(query)\n",
        "print(f\"Query: {query}\")\n",
        "print(f\"Category: {result['category']}\")\n",
        "print(f\"Sentiment: {result['sentiment']}\")\n",
        "print(f\"Response: {result['response']}\")\n",
        "print(\"\\n\")\n",
        "\n"
      ],
      "metadata": {
        "colab": {
          "base_uri": "https://localhost:8080/"
        },
        "id": "-e7pBDHVjv9-",
        "outputId": "a42e0b98-981e-4df4-fa2c-7d1e833f1a9b"
      },
      "execution_count": 14,
      "outputs": [
        {
          "output_type": "stream",
          "name": "stdout",
          "text": [
            "Query: I want to cancel my subscription before the next billing cycle, Can you help me?\n",
            "Category: The customer query can be categorized as: Billing.\n",
            "\n",
            "The query specifically mentions canceling a subscription and the next billing cycle, which indicates a concern related to payment or subscription management, making it a billing-related issue.\n",
            "Sentiment: Negative.\n",
            "Response: You can cancel your subscription by following these steps:\n",
            "\n",
            "1.  **Log in** to your account on our website or mobile app.\n",
            "2.  **Go to your account settings** or profile page.\n",
            "3.  **Look for the \"Subscriptions\" or \"Membership\" section**.\n",
            "4.  **Click on \"Cancel Subscription\" or \"Unsubscribe\"**.\n",
            "5.  **Confirm your cancellation** by clicking on the confirmation button.\n",
            "\n",
            "If you're having trouble finding the cancellation option or need assistance with the process, our customer support team is here to help. You can contact us through our website's contact form, email, or phone number, and we'll be happy to guide you through the cancellation process.\n",
            "\n",
            "Please note that cancellations must be made before the next billing cycle to avoid any additional charges. If you have any questions or concerns, feel free to reach out to us, and we'll do our best to assist you.\n",
            "\n",
            "\n"
          ]
        }
      ]
    }
  ]
}